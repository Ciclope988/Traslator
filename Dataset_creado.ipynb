{
 "cells": [
  {
   "cell_type": "code",
   "execution_count": 1,
   "id": "d43e43b8",
   "metadata": {},
   "outputs": [],
   "source": [
    "import torch\n",
    "from transformers import MarianMTModel, MarianTokenizer\n"
   ]
  },
  {
   "cell_type": "code",
   "execution_count": 2,
   "id": "bc110378",
   "metadata": {},
   "outputs": [],
   "source": [
    "def crear_dataset_sintetico(corpus_path, output_path):\n",
    "    \"\"\"\n",
    "    Crea un dataset sintético para traducción Inglés-Español usando retrotraducción.\n",
    "\n",
    "    Args:\n",
    "        corpus_path (str): Ruta al archivo .txt con frases en español (una por línea).\n",
    "        output_path (str): Ruta donde se guardará el archivo CSV del dataset.\n",
    "    \"\"\"\n",
    "    # 1. Cargar el modelo de traducción de Español a Inglés\n",
    "    model_name = 'Helsinki-NLP/opus-mt-es-en'\n",
    "    try:\n",
    "        tokenizer = MarianTokenizer.from_pretrained(model_name)\n",
    "        model = MarianMTModel.from_pretrained(model_name)\n",
    "    except OSError:\n",
    "        print(f\"Error: No se pudo encontrar el modelo {model_name}. Asegúrate de tener conexión a internet.\")\n",
    "        return\n"
   ]
  },
  {
   "cell_type": "code",
   "execution_count": 4,
   "id": "11d19f22",
   "metadata": {},
   "outputs": [
    {
     "ename": "NameError",
     "evalue": "name 'model' is not defined",
     "output_type": "error",
     "traceback": [
      "\u001b[31m---------------------------------------------------------------------------\u001b[39m",
      "\u001b[31mNameError\u001b[39m                                 Traceback (most recent call last)",
      "\u001b[36mCell\u001b[39m\u001b[36m \u001b[39m\u001b[32mIn[4]\u001b[39m\u001b[32m, line 3\u001b[39m\n\u001b[32m      1\u001b[39m \u001b[38;5;66;03m# Verificar si hay una GPU disponible para acelerar el proceso\u001b[39;00m\n\u001b[32m      2\u001b[39m device = torch.device(\u001b[33m\"\u001b[39m\u001b[33mcuda\u001b[39m\u001b[33m\"\u001b[39m \u001b[38;5;28;01mif\u001b[39;00m torch.cuda.is_available() \u001b[38;5;28;01melse\u001b[39;00m \u001b[33m\"\u001b[39m\u001b[33mcpu\u001b[39m\u001b[33m\"\u001b[39m)\n\u001b[32m----> \u001b[39m\u001b[32m3\u001b[39m \u001b[43mmodel\u001b[49m.to(device)\n\u001b[32m      4\u001b[39m \u001b[38;5;28mprint\u001b[39m(\u001b[33mf\u001b[39m\u001b[33m\"\u001b[39m\u001b[33mUsando dispositivo: \u001b[39m\u001b[38;5;132;01m{\u001b[39;00mdevice\u001b[38;5;132;01m}\u001b[39;00m\u001b[33m\"\u001b[39m)\n",
      "\u001b[31mNameError\u001b[39m: name 'model' is not defined"
     ]
    }
   ],
   "source": [
    "# Verificar si hay una GPU disponible para acelerar el proceso\n",
    "device = torch.device(\"cuda\" if torch.cuda.is_available() else \"cpu\")\n",
    "model.to(device)\n",
    "print(f\"Usando dispositivo: {device}\")"
   ]
  },
  {
   "cell_type": "code",
   "execution_count": 5,
   "id": "e292fac2",
   "metadata": {},
   "outputs": [
    {
     "ename": "IndentationError",
     "evalue": "unexpected indent (3986569942.py, line 2)",
     "output_type": "error",
     "traceback": [
      "  \u001b[36mCell\u001b[39m\u001b[36m \u001b[39m\u001b[32mIn[5]\u001b[39m\u001b[32m, line 2\u001b[39m\n\u001b[31m    \u001b[39m\u001b[31mtry:\u001b[39m\n    ^\n\u001b[31mIndentationError\u001b[39m\u001b[31m:\u001b[39m unexpected indent\n"
     ]
    }
   ],
   "source": [
    "# 2. Leer el corpus en español\n",
    "    try:\n",
    "        with open(corpus_path, 'r', encoding='utf-8') as f:\n",
    "            frases_espanol = [line.strip() for line in f if line.strip()]\n",
    "    except FileNotFoundError:\n",
    "        print(f\"Error: No se encontró el archivo en la ruta: {corpus_path}\")\n",
    "        return\n",
    "\n",
    "    print(f\"Se encontraron {len(frases_espanol)} frases para traducir.\")"
   ]
  },
  {
   "cell_type": "code",
   "execution_count": null,
   "id": "d009efea",
   "metadata": {},
   "outputs": [],
   "source": [
    "\n",
    "# 3. Realizar la retrotraducción (de Español a Inglés)\n",
    "    frases_ingles_sintetico = []\n",
    "    # Procesar en lotes para manejar corpus grandes de manera eficiente\n",
    "    batch_size = 16 \n",
    "    for i in range(0, len(frases_espanol), batch_size):\n",
    "        batch = frases_espanol[i:i+batch_size]\n",
    "        # Tokenizar el lote de frases\n",
    "        inputs = tokenizer(batch, return_tensors=\"pt\", padding=True, truncation=True, max_length=512).to(device)\n",
    "        \n",
    "        # Generar la traducción\n",
    "        translated_tokens = model.generate(**inputs)\n",
    "        \n",
    "        # Decodificar las traducciones y añadirlas a la lista\n",
    "        traducciones = tokenizer.batch_decode(translated_tokens, skip_special_tokens=True)\n",
    "        frases_ingles_sintetico.extend(traducciones)\n",
    "        \n",
    "        print(f\"Procesado lote {i//batch_size + 1}/{(len(frases_espanol) + batch_size - 1)//batch_size}\")\n",
    "\n",
    "\n"
   ]
  },
  {
   "cell_type": "code",
   "execution_count": null,
   "id": "96777c66",
   "metadata": {},
   "outputs": [],
   "source": [
    "   # 4. Guardar el dataset sintético en un archivo CSV\n",
    "    import csv\n",
    "    with open(output_path, 'w', newline='', encoding='utf-8') as f:\n",
    "        writer = csv.writer(f)\n",
    "        writer.writerow(['ingles', 'espanol'])  # Escribir la cabecera\n",
    "        for eng, esp in zip(frases_ingles_sintetico, frases_espanol):\n",
    "            writer.writerow([eng, esp])\n",
    "\n",
    "    print(f\"\\n¡Dataset sintético creado con éxito en '{output_path}'!\")\n",
    "    print(\"Ejemplo de una de las traducciones generadas:\")\n",
    "    print(f\"  Español (Original): {frases_espanol[0]}\")\n",
    "    print(f\"  Inglés (Sintético): {frases_ingles_sintetico[0]}\")"
   ]
  },
  {
   "cell_type": "code",
   "execution_count": null,
   "id": "f181240a",
   "metadata": {},
   "outputs": [],
   "source": [
    "# --- Ejecución del script ---\n",
    "if __name__ == \"__main__\":\n",
    "    # Ruta a tu archivo con frases en español\n",
    "    archivo_corpus_es = 'corpus_es.txt'\n",
    "    \n",
    "    # Ruta donde quieres guardar el nuevo dataset\n",
    "    archivo_salida_csv = 'dataset_sintetico_en-es.csv'\n",
    "    \n",
    "    crear_dataset_sintetico(archivo_corpus_es, archivo_salida_csv)"
   ]
  }
 ],
 "metadata": {
  "kernelspec": {
   "display_name": "base",
   "language": "python",
   "name": "python3"
  },
  "language_info": {
   "codemirror_mode": {
    "name": "ipython",
    "version": 3
   },
   "file_extension": ".py",
   "mimetype": "text/x-python",
   "name": "python",
   "nbconvert_exporter": "python",
   "pygments_lexer": "ipython3",
   "version": "3.13.5"
  }
 },
 "nbformat": 4,
 "nbformat_minor": 5
}
